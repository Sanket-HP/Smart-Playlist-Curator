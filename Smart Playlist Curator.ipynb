{
 "cells": [
  {
   "cell_type": "code",
   "execution_count": 2,
   "id": "f6fbe686-097d-44b7-870d-9d0c7a47158f",
   "metadata": {
    "tags": []
   },
   "outputs": [
    {
     "name": "stdout",
     "output_type": "stream",
     "text": [
      "Collecting spotipy\n",
      "  Downloading spotipy-2.24.0-py3-none-any.whl.metadata (4.9 kB)\n",
      "Collecting redis>=3.5.3 (from spotipy)\n",
      "  Downloading redis-5.0.8-py3-none-any.whl.metadata (9.2 kB)\n",
      "Requirement already satisfied: requests>=2.25.0 in /opt/conda/envs/sagemaker-distribution/lib/python3.10/site-packages (from spotipy) (2.31.0)\n",
      "Requirement already satisfied: urllib3>=1.26.0 in /opt/conda/envs/sagemaker-distribution/lib/python3.10/site-packages (from spotipy) (1.26.18)\n",
      "Requirement already satisfied: async-timeout>=4.0.3 in /opt/conda/envs/sagemaker-distribution/lib/python3.10/site-packages (from redis>=3.5.3->spotipy) (4.0.3)\n",
      "Requirement already satisfied: charset-normalizer<4,>=2 in /opt/conda/envs/sagemaker-distribution/lib/python3.10/site-packages (from requests>=2.25.0->spotipy) (3.3.2)\n",
      "Requirement already satisfied: idna<4,>=2.5 in /opt/conda/envs/sagemaker-distribution/lib/python3.10/site-packages (from requests>=2.25.0->spotipy) (3.7)\n",
      "Requirement already satisfied: certifi>=2017.4.17 in /opt/conda/envs/sagemaker-distribution/lib/python3.10/site-packages (from requests>=2.25.0->spotipy) (2024.2.2)\n",
      "Downloading spotipy-2.24.0-py3-none-any.whl (30 kB)\n",
      "Downloading redis-5.0.8-py3-none-any.whl (255 kB)\n",
      "\u001b[2K   \u001b[90m━━━━━━━━━━━━━━━━━━━━━━━━━━━━━━━━━━━━━━━━\u001b[0m \u001b[32m255.6/255.6 kB\u001b[0m \u001b[31m9.3 MB/s\u001b[0m eta \u001b[36m0:00:00\u001b[0m\n",
      "\u001b[?25hInstalling collected packages: redis, spotipy\n",
      "Successfully installed redis-5.0.8 spotipy-2.24.0\n",
      "Requirement already satisfied: pandas in /opt/conda/envs/sagemaker-distribution/lib/python3.10/site-packages (2.1.4)\n",
      "Requirement already satisfied: numpy<2,>=1.22.4 in /opt/conda/envs/sagemaker-distribution/lib/python3.10/site-packages (from pandas) (1.26.4)\n",
      "Requirement already satisfied: python-dateutil>=2.8.2 in /opt/conda/envs/sagemaker-distribution/lib/python3.10/site-packages (from pandas) (2.9.0)\n",
      "Requirement already satisfied: pytz>=2020.1 in /opt/conda/envs/sagemaker-distribution/lib/python3.10/site-packages (from pandas) (2023.3)\n",
      "Requirement already satisfied: tzdata>=2022.1 in /opt/conda/envs/sagemaker-distribution/lib/python3.10/site-packages (from pandas) (2024.1)\n",
      "Requirement already satisfied: six>=1.5 in /opt/conda/envs/sagemaker-distribution/lib/python3.10/site-packages (from python-dateutil>=2.8.2->pandas) (1.16.0)\n",
      "Requirement already satisfied: numpy in /opt/conda/envs/sagemaker-distribution/lib/python3.10/site-packages (1.26.4)\n",
      "Requirement already satisfied: scikit-learn in /opt/conda/envs/sagemaker-distribution/lib/python3.10/site-packages (1.4.2)\n",
      "Requirement already satisfied: numpy>=1.19.5 in /opt/conda/envs/sagemaker-distribution/lib/python3.10/site-packages (from scikit-learn) (1.26.4)\n",
      "Requirement already satisfied: scipy>=1.6.0 in /opt/conda/envs/sagemaker-distribution/lib/python3.10/site-packages (from scikit-learn) (1.11.4)\n",
      "Requirement already satisfied: joblib>=1.2.0 in /opt/conda/envs/sagemaker-distribution/lib/python3.10/site-packages (from scikit-learn) (1.4.2)\n",
      "Requirement already satisfied: threadpoolctl>=2.0.0 in /opt/conda/envs/sagemaker-distribution/lib/python3.10/site-packages (from scikit-learn) (3.5.0)\n",
      "Requirement already satisfied: matplotlib in /opt/conda/envs/sagemaker-distribution/lib/python3.10/site-packages (3.8.4)\n",
      "Requirement already satisfied: contourpy>=1.0.1 in /opt/conda/envs/sagemaker-distribution/lib/python3.10/site-packages (from matplotlib) (1.2.1)\n",
      "Requirement already satisfied: cycler>=0.10 in /opt/conda/envs/sagemaker-distribution/lib/python3.10/site-packages (from matplotlib) (0.12.1)\n",
      "Requirement already satisfied: fonttools>=4.22.0 in /opt/conda/envs/sagemaker-distribution/lib/python3.10/site-packages (from matplotlib) (4.51.0)\n",
      "Requirement already satisfied: kiwisolver>=1.3.1 in /opt/conda/envs/sagemaker-distribution/lib/python3.10/site-packages (from matplotlib) (1.4.5)\n",
      "Requirement already satisfied: numpy>=1.21 in /opt/conda/envs/sagemaker-distribution/lib/python3.10/site-packages (from matplotlib) (1.26.4)\n",
      "Requirement already satisfied: packaging>=20.0 in /opt/conda/envs/sagemaker-distribution/lib/python3.10/site-packages (from matplotlib) (23.2)\n",
      "Collecting pillow>=8 (from matplotlib)\n",
      "  Downloading pillow-10.4.0-cp310-cp310-manylinux_2_28_x86_64.whl.metadata (9.2 kB)\n",
      "Requirement already satisfied: pyparsing>=2.3.1 in /opt/conda/envs/sagemaker-distribution/lib/python3.10/site-packages (from matplotlib) (3.1.2)\n",
      "Requirement already satisfied: python-dateutil>=2.7 in /opt/conda/envs/sagemaker-distribution/lib/python3.10/site-packages (from matplotlib) (2.9.0)\n",
      "Requirement already satisfied: six>=1.5 in /opt/conda/envs/sagemaker-distribution/lib/python3.10/site-packages (from python-dateutil>=2.7->matplotlib) (1.16.0)\n",
      "Downloading pillow-10.4.0-cp310-cp310-manylinux_2_28_x86_64.whl (4.5 MB)\n",
      "\u001b[2K   \u001b[90m━━━━━━━━━━━━━━━━━━━━━━━━━━━━━━━━━━━━━━━━\u001b[0m \u001b[32m4.5/4.5 MB\u001b[0m \u001b[31m53.8 MB/s\u001b[0m eta \u001b[36m0:00:00\u001b[0ma \u001b[36m0:00:01\u001b[0m\n",
      "\u001b[?25hInstalling collected packages: pillow\n",
      "  Attempting uninstall: pillow\n",
      "    Found existing installation: Pillow 3.4.2\n",
      "    Uninstalling Pillow-3.4.2:\n",
      "      Successfully uninstalled Pillow-3.4.2\n",
      "\u001b[31mERROR: pip's dependency resolver does not currently take into account all the packages that are installed. This behaviour is the source of the following dependency conflicts.\n",
      "autogluon-multimodal 0.8.3 requires pandas<1.6,>=1.4.1, but you have pandas 2.1.4 which is incompatible.\n",
      "autogluon-multimodal 0.8.3 requires pytorch-lightning<1.10.0,>=1.9.0, but you have pytorch-lightning 2.0.9 which is incompatible.\n",
      "autogluon-multimodal 0.8.3 requires scikit-learn<1.4.1,>=1.1, but you have scikit-learn 1.4.2 which is incompatible.\n",
      "autogluon-multimodal 0.8.3 requires torch<1.14,>=1.9, but you have torch 2.0.0.post104 which is incompatible.\n",
      "autogluon-multimodal 0.8.3 requires torchmetrics<0.12.0,>=0.11.0, but you have torchmetrics 1.0.3 which is incompatible.\n",
      "autogluon-multimodal 0.8.3 requires torchvision<0.15.0, but you have torchvision 0.15.2a0+ab7b3e6 which is incompatible.\n",
      "instagram-python 1.4 requires Pillow==3.4.2, but you have pillow 10.4.0 which is incompatible.\u001b[0m\u001b[31m\n",
      "\u001b[0mSuccessfully installed pillow-10.4.0\n",
      "Collecting seaborn\n",
      "  Using cached seaborn-0.13.2-py3-none-any.whl.metadata (5.4 kB)\n",
      "Requirement already satisfied: numpy!=1.24.0,>=1.20 in /opt/conda/envs/sagemaker-distribution/lib/python3.10/site-packages (from seaborn) (1.26.4)\n",
      "Requirement already satisfied: pandas>=1.2 in /opt/conda/envs/sagemaker-distribution/lib/python3.10/site-packages (from seaborn) (2.1.4)\n",
      "Requirement already satisfied: matplotlib!=3.6.1,>=3.4 in /opt/conda/envs/sagemaker-distribution/lib/python3.10/site-packages (from seaborn) (3.8.4)\n",
      "Requirement already satisfied: contourpy>=1.0.1 in /opt/conda/envs/sagemaker-distribution/lib/python3.10/site-packages (from matplotlib!=3.6.1,>=3.4->seaborn) (1.2.1)\n",
      "Requirement already satisfied: cycler>=0.10 in /opt/conda/envs/sagemaker-distribution/lib/python3.10/site-packages (from matplotlib!=3.6.1,>=3.4->seaborn) (0.12.1)\n",
      "Requirement already satisfied: fonttools>=4.22.0 in /opt/conda/envs/sagemaker-distribution/lib/python3.10/site-packages (from matplotlib!=3.6.1,>=3.4->seaborn) (4.51.0)\n",
      "Requirement already satisfied: kiwisolver>=1.3.1 in /opt/conda/envs/sagemaker-distribution/lib/python3.10/site-packages (from matplotlib!=3.6.1,>=3.4->seaborn) (1.4.5)\n",
      "Requirement already satisfied: packaging>=20.0 in /opt/conda/envs/sagemaker-distribution/lib/python3.10/site-packages (from matplotlib!=3.6.1,>=3.4->seaborn) (23.2)\n",
      "Requirement already satisfied: pillow>=8 in /opt/conda/envs/sagemaker-distribution/lib/python3.10/site-packages (from matplotlib!=3.6.1,>=3.4->seaborn) (10.4.0)\n",
      "Requirement already satisfied: pyparsing>=2.3.1 in /opt/conda/envs/sagemaker-distribution/lib/python3.10/site-packages (from matplotlib!=3.6.1,>=3.4->seaborn) (3.1.2)\n",
      "Requirement already satisfied: python-dateutil>=2.7 in /opt/conda/envs/sagemaker-distribution/lib/python3.10/site-packages (from matplotlib!=3.6.1,>=3.4->seaborn) (2.9.0)\n",
      "Requirement already satisfied: pytz>=2020.1 in /opt/conda/envs/sagemaker-distribution/lib/python3.10/site-packages (from pandas>=1.2->seaborn) (2023.3)\n",
      "Requirement already satisfied: tzdata>=2022.1 in /opt/conda/envs/sagemaker-distribution/lib/python3.10/site-packages (from pandas>=1.2->seaborn) (2024.1)\n",
      "Requirement already satisfied: six>=1.5 in /opt/conda/envs/sagemaker-distribution/lib/python3.10/site-packages (from python-dateutil>=2.7->matplotlib!=3.6.1,>=3.4->seaborn) (1.16.0)\n",
      "Using cached seaborn-0.13.2-py3-none-any.whl (294 kB)\n",
      "Installing collected packages: seaborn\n",
      "Successfully installed seaborn-0.13.2\n"
     ]
    }
   ],
   "source": [
    "!pip install spotipy\n",
    "!pip install pandas\n",
    "!pip install numpy\n",
    "!pip install scikit-learn\n",
    "!pip install matplotlib\n",
    "!pip install seaborn"
   ]
  },
  {
   "cell_type": "code",
   "execution_count": 3,
   "id": "7444d1c3-58b9-47e4-a842-c29af513a37e",
   "metadata": {
    "tags": []
   },
   "outputs": [],
   "source": [
    "import spotipy\n",
    "from spotipy.oauth2 import SpotifyClientCredentials\n",
    "import pandas as pd\n",
    "import numpy as np\n",
    "from sklearn.preprocessing import StandardScaler\n",
    "from sklearn.cluster import KMeans\n",
    "import matplotlib.pyplot as plt\n",
    "import seaborn as sns"
   ]
  },
  {
   "cell_type": "code",
   "execution_count": 4,
   "id": "9bd191dc-63ac-4c3f-a944-adf857a2e4a1",
   "metadata": {
    "tags": []
   },
   "outputs": [],
   "source": [
    "# Replace with your Spotify API credentials\n",
    "CLIENT_ID = 'b15e21f1740f426db674d3bcf7e12b8d'\n",
    "CLIENT_SECRET = '01613442d19a4555a3bbed51c2dd861f'\n",
    "\n",
    "# Spotify Authentication\n",
    "auth_manager = SpotifyClientCredentials(client_id=CLIENT_ID, client_secret=CLIENT_SECRET)\n",
    "sp = spotipy.Spotify(auth_manager=auth_manager)"
   ]
  },
  {
   "cell_type": "code",
   "execution_count": 5,
   "id": "77cc03c3-c1ee-42bb-bd7d-3b96cedd7b61",
   "metadata": {
    "tags": []
   },
   "outputs": [
    {
     "name": "stdout",
     "output_type": "stream",
     "text": [
      "                                            name                      id  \\\n",
      "0                                       GODSPEED  1HA5rqn1k4YQnJ9XxsnApd   \n",
      "1                               just stand there  2D9a9CXeo3HFtVeaNlzp4a   \n",
      "2                                            Ego  1mGM4dJe4v9DhBY3pRSpRj   \n",
      "3                    Ruby Rosary (feat. J. Cole)  1lloYB6uHOTDmheiWsq4DL   \n",
      "4  Someone In This Room (feat. Bailey Zimmerman)  3kvgQZmOgwjfVnuduPPDZG   \n",
      "\n",
      "   popularity          artist  \n",
      "0          60  Camila Cabello  \n",
      "1          43    Fred again..  \n",
      "2          38          Halsey  \n",
      "3          45      A$AP Rocky  \n",
      "4          32    Jessie Murph  \n"
     ]
    }
   ],
   "source": [
    "def get_playlist_tracks(playlist_id):\n",
    "    tracks = []\n",
    "    results = sp.playlist_tracks(playlist_id)\n",
    "    tracks.extend(results['items'])\n",
    "    \n",
    "    while results['next']:\n",
    "        results = sp.next(results)\n",
    "        tracks.extend(results['items'])\n",
    "    \n",
    "    track_data = []\n",
    "    for item in tracks:\n",
    "        track = item['track']\n",
    "        track_data.append({\n",
    "            'name': track['name'],\n",
    "            'id': track['id'],\n",
    "            'popularity': track['popularity'],\n",
    "            'artist': track['artists'][0]['name']\n",
    "        })\n",
    "    return pd.DataFrame(track_data)\n",
    "\n",
    "# Example playlist (you can change this with your own playlist ID)\n",
    "playlist_id = '37i9dQZF1DX4JAvHpjipBk'  # Replace with your playlist ID\n",
    "tracks_df = get_playlist_tracks(playlist_id)\n",
    "print(tracks_df.head())"
   ]
  },
  {
   "cell_type": "code",
   "execution_count": 6,
   "id": "3848909b-d330-4685-a424-7563c0abd4ce",
   "metadata": {
    "tags": []
   },
   "outputs": [
    {
     "name": "stdout",
     "output_type": "stream",
     "text": [
      "   danceability  energy  key  loudness  mode  speechiness  acousticness  \\\n",
      "0         0.387   0.445    5    -8.578     1       0.0464       0.73500   \n",
      "1         0.564   0.864    5    -7.111     1       0.0506       0.02780   \n",
      "2         0.582   0.951    7    -3.081     1       0.0679       0.00161   \n",
      "3         0.663   0.647    7    -7.249     1       0.2890       0.79400   \n",
      "4         0.480   0.338    3    -8.899     1       0.0346       0.48800   \n",
      "\n",
      "   instrumentalness  liveness  valence    tempo            type  \\\n",
      "0          0.000006     0.170    0.166  126.811  audio_features   \n",
      "1          0.125000     0.134    0.290  130.023  audio_features   \n",
      "2          0.000000     0.345    0.307  104.985  audio_features   \n",
      "3          0.000000     0.100    0.432   78.584  audio_features   \n",
      "4          0.000000     0.103    0.267  145.531  audio_features   \n",
      "\n",
      "                       id                                   uri  \\\n",
      "0  1HA5rqn1k4YQnJ9XxsnApd  spotify:track:1HA5rqn1k4YQnJ9XxsnApd   \n",
      "1  2D9a9CXeo3HFtVeaNlzp4a  spotify:track:2D9a9CXeo3HFtVeaNlzp4a   \n",
      "2  1mGM4dJe4v9DhBY3pRSpRj  spotify:track:1mGM4dJe4v9DhBY3pRSpRj   \n",
      "3  1lloYB6uHOTDmheiWsq4DL  spotify:track:1lloYB6uHOTDmheiWsq4DL   \n",
      "4  3kvgQZmOgwjfVnuduPPDZG  spotify:track:3kvgQZmOgwjfVnuduPPDZG   \n",
      "\n",
      "                                          track_href  \\\n",
      "0  https://api.spotify.com/v1/tracks/1HA5rqn1k4YQ...   \n",
      "1  https://api.spotify.com/v1/tracks/2D9a9CXeo3HF...   \n",
      "2  https://api.spotify.com/v1/tracks/1mGM4dJe4v9D...   \n",
      "3  https://api.spotify.com/v1/tracks/1lloYB6uHOTD...   \n",
      "4  https://api.spotify.com/v1/tracks/3kvgQZmOgwjf...   \n",
      "\n",
      "                                        analysis_url  duration_ms  \\\n",
      "0  https://api.spotify.com/v1/audio-analysis/1HA5...       216472   \n",
      "1  https://api.spotify.com/v1/audio-analysis/2D9a...       260997   \n",
      "2  https://api.spotify.com/v1/audio-analysis/1mGM...       198507   \n",
      "3  https://api.spotify.com/v1/audio-analysis/1llo...       256788   \n",
      "4  https://api.spotify.com/v1/audio-analysis/3kvg...       200967   \n",
      "\n",
      "   time_signature  \n",
      "0               1  \n",
      "1               4  \n",
      "2               4  \n",
      "3               4  \n",
      "4               4  \n",
      "                                            name                      id  \\\n",
      "0                                       GODSPEED  1HA5rqn1k4YQnJ9XxsnApd   \n",
      "1                               just stand there  2D9a9CXeo3HFtVeaNlzp4a   \n",
      "2                                            Ego  1mGM4dJe4v9DhBY3pRSpRj   \n",
      "3                    Ruby Rosary (feat. J. Cole)  1lloYB6uHOTDmheiWsq4DL   \n",
      "4  Someone In This Room (feat. Bailey Zimmerman)  3kvgQZmOgwjfVnuduPPDZG   \n",
      "\n",
      "   popularity          artist  danceability  energy  key  loudness  mode  \\\n",
      "0          60  Camila Cabello         0.387   0.445    5    -8.578     1   \n",
      "1          43    Fred again..         0.564   0.864    5    -7.111     1   \n",
      "2          38          Halsey         0.582   0.951    7    -3.081     1   \n",
      "3          45      A$AP Rocky         0.663   0.647    7    -7.249     1   \n",
      "4          32    Jessie Murph         0.480   0.338    3    -8.899     1   \n",
      "\n",
      "   speechiness  ...  instrumentalness  liveness  valence    tempo  \\\n",
      "0       0.0464  ...          0.000006     0.170    0.166  126.811   \n",
      "1       0.0506  ...          0.125000     0.134    0.290  130.023   \n",
      "2       0.0679  ...          0.000000     0.345    0.307  104.985   \n",
      "3       0.2890  ...          0.000000     0.100    0.432   78.584   \n",
      "4       0.0346  ...          0.000000     0.103    0.267  145.531   \n",
      "\n",
      "             type                                   uri  \\\n",
      "0  audio_features  spotify:track:1HA5rqn1k4YQnJ9XxsnApd   \n",
      "1  audio_features  spotify:track:2D9a9CXeo3HFtVeaNlzp4a   \n",
      "2  audio_features  spotify:track:1mGM4dJe4v9DhBY3pRSpRj   \n",
      "3  audio_features  spotify:track:1lloYB6uHOTDmheiWsq4DL   \n",
      "4  audio_features  spotify:track:3kvgQZmOgwjfVnuduPPDZG   \n",
      "\n",
      "                                          track_href  \\\n",
      "0  https://api.spotify.com/v1/tracks/1HA5rqn1k4YQ...   \n",
      "1  https://api.spotify.com/v1/tracks/2D9a9CXeo3HF...   \n",
      "2  https://api.spotify.com/v1/tracks/1mGM4dJe4v9D...   \n",
      "3  https://api.spotify.com/v1/tracks/1lloYB6uHOTD...   \n",
      "4  https://api.spotify.com/v1/tracks/3kvgQZmOgwjf...   \n",
      "\n",
      "                                        analysis_url duration_ms  \\\n",
      "0  https://api.spotify.com/v1/audio-analysis/1HA5...      216472   \n",
      "1  https://api.spotify.com/v1/audio-analysis/2D9a...      260997   \n",
      "2  https://api.spotify.com/v1/audio-analysis/1mGM...      198507   \n",
      "3  https://api.spotify.com/v1/audio-analysis/1llo...      256788   \n",
      "4  https://api.spotify.com/v1/audio-analysis/3kvg...      200967   \n",
      "\n",
      "   time_signature  \n",
      "0               1  \n",
      "1               4  \n",
      "2               4  \n",
      "3               4  \n",
      "4               4  \n",
      "\n",
      "[5 rows x 21 columns]\n"
     ]
    }
   ],
   "source": [
    "def get_audio_features(track_ids):\n",
    "    audio_features = []\n",
    "    for i in range(0, len(track_ids), 50):\n",
    "        features = sp.audio_features(track_ids[i:i + 50])\n",
    "        audio_features.extend(features)\n",
    "    return pd.DataFrame(audio_features)\n",
    "\n",
    "# Fetch audio features for the tracks\n",
    "track_ids = tracks_df['id'].tolist()\n",
    "audio_features_df = get_audio_features(track_ids)\n",
    "print(audio_features_df.head())\n",
    "\n",
    "# Merge audio features with the tracks DataFrame\n",
    "playlist_df = tracks_df.merge(audio_features_df, on='id')\n",
    "print(playlist_df.head())"
   ]
  },
  {
   "cell_type": "code",
   "execution_count": 7,
   "id": "ed644b0b-9fad-4e3e-b04c-de1a9d65506e",
   "metadata": {
    "tags": []
   },
   "outputs": [
    {
     "name": "stdout",
     "output_type": "stream",
     "text": [
      "                                            name          artist  \\\n",
      "0                                       GODSPEED  Camila Cabello   \n",
      "1                               just stand there    Fred again..   \n",
      "2                                            Ego          Halsey   \n",
      "3                    Ruby Rosary (feat. J. Cole)      A$AP Rocky   \n",
      "4  Someone In This Room (feat. Bailey Zimmerman)    Jessie Murph   \n",
      "\n",
      "   danceability    energy  speechiness  acousticness  instrumentalness  \\\n",
      "0     -1.315866 -1.208955    -0.555099      1.999711         -0.306021   \n",
      "1     -0.160108  1.077549    -0.505417     -0.653491          0.876561   \n",
      "2     -0.042574  1.552312    -0.300771     -0.751748         -0.306081   \n",
      "3      0.486333 -0.106631     2.314677      2.221062         -0.306081   \n",
      "4     -0.708604 -1.792859    -0.694685      1.073041         -0.306081   \n",
      "\n",
      "   liveness   valence     tempo  \n",
      "0 -0.003577 -1.318827  0.187053  \n",
      "1 -0.306531 -0.744832  0.295486  \n",
      "2  1.469117 -0.666139 -0.549767  \n",
      "3 -0.592654 -0.087516 -1.441034  \n",
      "4 -0.567408 -0.851299  0.819018  \n"
     ]
    }
   ],
   "source": [
    "# Selecting relevant audio features\n",
    "features = ['danceability', 'energy', 'speechiness', 'acousticness', 'instrumentalness', 'liveness', 'valence', 'tempo']\n",
    "\n",
    "# Standardizing the features\n",
    "scaler = StandardScaler()\n",
    "playlist_df[features] = scaler.fit_transform(playlist_df[features])\n",
    "\n",
    "# Final DataFrame with important information\n",
    "playlist_final_df = playlist_df[['name', 'artist'] + features]\n",
    "print(playlist_final_df.head())"
   ]
  },
  {
   "cell_type": "code",
   "execution_count": 8,
   "id": "db40ca58-4f81-4477-afed-ace483881f5f",
   "metadata": {
    "tags": []
   },
   "outputs": [
    {
     "name": "stderr",
     "output_type": "stream",
     "text": [
      "/tmp/ipykernel_653/3565805678.py:3: SettingWithCopyWarning: \n",
      "A value is trying to be set on a copy of a slice from a DataFrame.\n",
      "Try using .loc[row_indexer,col_indexer] = value instead\n",
      "\n",
      "See the caveats in the documentation: https://pandas.pydata.org/pandas-docs/stable/user_guide/indexing.html#returning-a-view-versus-a-copy\n",
      "  playlist_final_df['cluster'] = kmeans.fit_predict(playlist_final_df[features])\n"
     ]
    },
    {
     "data": {
      "image/png": "[encoded data removed]",
      "text/plain": [
       "<Figure size 1000x600 with 1 Axes>"
      ]
     },
     "metadata": {},
     "output_type": "display_data"
    }
   ],
   "source": [
    "# Fit KMeans clustering to group songs into clusters\n",
    "kmeans = KMeans(n_clusters=5, random_state=42)\n",
    "playlist_final_df['cluster'] = kmeans.fit_predict(playlist_final_df[features])\n",
    "\n",
    "# Visualizing the clusters\n",
    "plt.figure(figsize=(10,6))\n",
    "sns.scatterplot(x='energy', y='valence', hue='cluster', data=playlist_final_df, palette='Set1')\n",
    "plt.title('Song Clustering Based on Energy and Valence')\n",
    "plt.show()\n"
   ]
  },
  {
   "cell_type": "code",
   "execution_count": 9,
   "id": "5529053f-deb1-44d8-ba0d-8a3e4c02fd51",
   "metadata": {
    "tags": []
   },
   "outputs": [
    {
     "name": "stdin",
     "output_type": "stream",
     "text": [
      "Enter your mood (e.g., happy, sad, energetic, relaxed, party):  happy\n"
     ]
    },
    {
     "name": "stdout",
     "output_type": "stream",
     "text": [
      "                                                 name            artist\n",
      "2                                                 Ego            Halsey\n",
      "15                                              Texas             keshi\n",
      "16                        Wet Dreams (feat. Coop & G)         Flo Milli\n",
      "19                                         TAKE ME IN         blink-182\n",
      "22                                      PRETTIEST ONE    Destroy Lonely\n",
      "24                                               Ashe              Ashe\n",
      "26      Never Going Home Tonight (feat. Madison Love)      David Guetta\n",
      "28                                             Want 2            Laila!\n",
      "33                                    Til The Morning        Royel Otis\n",
      "36                                         Lock Me Up  Mercer Henderson\n",
      "48  Paint The Town Blue (from the series Arcane Le...          Ashnikko\n",
      "50                              Ten (feat. Sexyy Red)           G Herbo\n",
      "54                                             I Walk       Mount Eerie\n",
      "60                                            Knights     Sarah Kinsley\n",
      "67                                           Far Away              RINI\n",
      "69                                          CASI ALGO            Blessd\n",
      "71                                           Involved            Ye Ali\n",
      "72                                             ZOMBIE             re6ce\n",
      "78                                           HAPPIER!          New West\n",
      "84                                         Soft Spine         Spiritbox\n",
      "88                                      Closer to God           Fat Dog\n",
      "94                                      Free Dem Ones     Lil Zay Osama\n",
      "96                                  Catching Up to Me      CHASE WRIGHT\n",
      "98                                        Without You       Aodhán King\n"
     ]
    }
   ],
   "source": [
    "def recommend_playlist(mood):\n",
    "    # Defining basic moods to map to clusters (you can expand on this)\n",
    "    mood_to_cluster = {\n",
    "        'happy': 1,\n",
    "        'sad': 2,\n",
    "        'energetic': 3,\n",
    "        'relaxed': 0,\n",
    "        'party': 4\n",
    "    }\n",
    "    \n",
    "    if mood.lower() in mood_to_cluster:\n",
    "        cluster = mood_to_cluster[mood.lower()]\n",
    "        recommended_songs = playlist_final_df[playlist_final_df['cluster'] == cluster]\n",
    "        return recommended_songs[['name', 'artist']]\n",
    "    else:\n",
    "        return \"Mood not recognized. Please try another mood.\"\n",
    "\n",
    "# Example: Recommend a playlist for a 'relaxed' mood\n",
    "mood = input(\"Enter your mood (e.g., happy, sad, energetic, relaxed, party): \")\n",
    "recommended_songs = recommend_playlist(mood)\n",
    "print(recommended_songs)\n"
   ]
  },
  {
   "cell_type": "code",
   "execution_count": null,
   "id": "9bbd3e31-afe8-4f12-8a8c-beae7e466568",
   "metadata": {},
   "outputs": [],
   "source": []
  }
 ],
 "metadata": {
  "kernelspec": {
   "display_name": "sagemaker-distribution:Python",
   "language": "python",
   "name": "conda-env-sagemaker-distribution-py"
  },
  "language_info": {
   "codemirror_mode": {
    "name": "ipython",
    "version": 3
   },
   "file_extension": ".py",
   "mimetype": "text/x-python",
   "name": "python",
   "nbconvert_exporter": "python",
   "pygments_lexer": "ipython3",
   "version": "3.10.14"
  }
 },
 "nbformat": 4,
 "nbformat_minor": 5
}
